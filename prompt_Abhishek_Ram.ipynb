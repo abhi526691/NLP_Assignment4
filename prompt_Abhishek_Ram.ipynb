{
 "cells": [
  {
   "cell_type": "code",
   "execution_count": 42,
   "metadata": {},
   "outputs": [],
   "source": [
    "import os\n",
    "from typing import Dict, List\n",
    "from groq import Groq\n",
    "import pandas as pd\n",
    "from sklearn.metrics.pairwise import cosine_similarity\n",
    "from sentence_transformers import SentenceTransformer\n",
    "import time"
   ]
  },
  {
   "cell_type": "code",
   "execution_count": null,
   "metadata": {},
   "outputs": [],
   "source": [
    "os.environ[\"GROQ_API_KEY\"] = \"\"\n",
    "\n",
    "# Models\n",
    "LLAMA3_70B_INSTRUCT = \"llama-3.1-70b-versatile\"\n",
    "LLAMA3_8B_INSTRUCT = \"llama3.1-8b-instant\"\n",
    "DEFAULT_MODEL = LLAMA3_70B_INSTRUCT\n",
    "\n",
    "# Client\n",
    "client = Groq()"
   ]
  },
  {
   "cell_type": "code",
   "execution_count": 44,
   "metadata": {},
   "outputs": [],
   "source": [
    "# Message Formatting\n",
    "def assistant(content: str):\n",
    "    return {\"role\": \"assistant\", \"content\": content}\n",
    "\n",
    "def user(content: str):\n",
    "    return {\"role\": \"user\", \"content\": content}\n",
    "\n",
    "def system(content: str):\n",
    "    return {\"role\": \"system\", \"content\": content}"
   ]
  },
  {
   "cell_type": "code",
   "execution_count": 45,
   "metadata": {},
   "outputs": [],
   "source": [
    "# Chat Completion\n",
    "def chat_completion(\n",
    "    messages: List[Dict],\n",
    "    model: str = DEFAULT_MODEL,\n",
    "    temperature: float = 0.6,\n",
    "    top_p: float = 0.9,\n",
    ") -> str:\n",
    "    try:\n",
    "        response = client.chat.completions.create(\n",
    "            messages=messages,\n",
    "            model=model,\n",
    "            temperature=temperature,\n",
    "            top_p=top_p,\n",
    "        )\n",
    "        return response.choices[0].message.content\n",
    "    except Exception as e:\n",
    "        print(f\"Error: {e}\")\n",
    "        return \"Error generating response.\""
   ]
  },
  {
   "cell_type": "markdown",
   "metadata": {},
   "source": [
    "## Zero-Shot Prompting"
   ]
  },
  {
   "cell_type": "code",
   "execution_count": 49,
   "metadata": {},
   "outputs": [],
   "source": [
    "def completion(\n",
    "    prompt: str,\n",
    "    model: str = DEFAULT_MODEL,\n",
    "    temperature: float = 0.6,\n",
    "    top_p: float = 0.9,\n",
    ") -> str:\n",
    "    \n",
    "    return chat_completion(\n",
    "        [user(prompt)],\n",
    "        model=model,\n",
    "        temperature=temperature,\n",
    "        top_p=top_p,\n",
    "    )\n",
    "\n",
    "def complete_and_print(prompt: str):\n",
    "    print(f'==============\\n{prompt}\\n==============')\n",
    "    response = completion(prompt, DEFAULT_MODEL)\n",
    "    print(response, end='\\n\\n')"
   ]
  },
  {
   "cell_type": "code",
   "execution_count": 50,
   "metadata": {},
   "outputs": [
    {
     "name": "stdout",
     "output_type": "stream",
     "text": [
      "==============\n",
      "thank you for your understanding and guidance i appreciate the reminder that i dont have to face this alone ill gather my courage and initiate that conversation soon i need to prioritize my wellbeing and find a healthier balance\n",
      "==============\n",
      "It's great to hear that you're feeling more empowered to take care of yourself and prioritize your wellbeing. Remember that seeking support and guidance is a sign of strength, not weakness. \n",
      "\n",
      "Initiating that conversation might seem daunting, but it's often the first step towards creating positive change in your life. Take a deep breath, gather your thoughts, and remember that you're doing this for yourself and your own growth.\n",
      "\n",
      "Finding a healthier balance is a process, and it's okay to take it one step at a time. Be kind to yourself, and don't hesitate to reach out for support when you need it. You got this, and you're not alone.\n",
      "\n"
     ]
    }
   ],
   "source": [
    "complete_and_print(df['human'][5])"
   ]
  },
  {
   "cell_type": "code",
   "execution_count": 51,
   "metadata": {},
   "outputs": [],
   "source": [
    "# Generate Few-Shot List\n",
    "def random_sample(n: int, df: pd.DataFrame):\n",
    "    \"\"\"\n",
    "    Generate a few-shot prompt list based on random samples from the dataset.\n",
    "    \"\"\"\n",
    "    few_shot_list = []\n",
    "    random_data = df.sample(n)\n",
    "    human_list = random_data['human']\n",
    "    gpt_list = random_data['gpt']\n",
    "\n",
    "    # Add system message\n",
    "    few_shot_list.append(system(\"You are a chatbot. For each message, return a response based on user input.\"))\n",
    "\n",
    "    # Add user and assistant examples\n",
    "    for i, j in zip(human_list, gpt_list):\n",
    "        few_shot_list.append(user(i))\n",
    "        few_shot_list.append(assistant(j))\n",
    "\n",
    "    return few_shot_list"
   ]
  },
  {
   "cell_type": "code",
   "execution_count": 52,
   "metadata": {},
   "outputs": [],
   "source": [
    "# Generate Response\n",
    "def generate_response(few_shot_list: List[Dict], text: str):\n",
    "    \"\"\"\n",
    "    Generate a response using the chat model.\n",
    "    \"\"\"\n",
    "    few_shot_list.append(user(text))\n",
    "    response = chat_completion(messages=few_shot_list)\n",
    "    return response"
   ]
  },
  {
   "cell_type": "code",
   "execution_count": 53,
   "metadata": {},
   "outputs": [],
   "source": [
    "# Evaluation Function\n",
    "def evaluate_response(human_input: str, gpt_output: str, llama_response: str) -> Dict:\n",
    "    \"\"\"\n",
    "    Evaluate the Llama response against the GPT response using semantic similarity.\n",
    "    \"\"\"\n",
    "    model = SentenceTransformer(\"paraphrase-MiniLM-L6-v2\")\n",
    "    embeddings = model.encode([gpt_output, llama_response])\n",
    "    similarity_score = cosine_similarity([embeddings[0]], [embeddings[1]])[0][0]\n",
    "\n",
    "    return {\n",
    "        \"human_input\": human_input,\n",
    "        \"gpt_output\": gpt_output,\n",
    "        \"llama_response\": llama_response,\n",
    "        \"similarity_score\": similarity_score,\n",
    "    }"
   ]
  },
  {
   "cell_type": "code",
   "execution_count": 54,
   "metadata": {},
   "outputs": [],
   "source": [
    "def few_shot_pipeline(df: pd.DataFrame, sample_size: int, test_cases: int):\n",
    "    \"\"\"\n",
    "    Run the few-shot prompt engineering pipeline and evaluate responses for multiple test cases.\n",
    "    \"\"\"\n",
    "    results = []\n",
    "    few_shot_list = random_sample(sample_size, df)\n",
    "\n",
    "    test_samples = df.sample(test_cases)\n",
    "    for _, row in test_samples.iterrows():\n",
    "        human_input = row['human']\n",
    "        gpt_output = row['gpt']\n",
    "\n",
    "        # print(f\"INPUT: {human_input}\")\n",
    "        # print(f\"GPT Response: {gpt_output}\")\n",
    "\n",
    "        # Generate Llama response\n",
    "        start_time = time.time()\n",
    "        llama_response = generate_response(few_shot_list, human_input)\n",
    "        elapsed_time = time.time() - start_time\n",
    "\n",
    "        print(f\"Llama Response: {llama_response}\")\n",
    "        print(f\"Response Time: {elapsed_time:.2f} seconds\")\n",
    "\n",
    "        # Evaluate and store results\n",
    "        evaluation_results = evaluate_response(human_input, gpt_output, llama_response)\n",
    "        evaluation_results[\"response_time\"] = elapsed_time\n",
    "        results.append(evaluation_results)\n",
    "\n",
    "        print(f\"Evaluation Results: {evaluation_results}\\n\")\n",
    "\n",
    "    return results"
   ]
  },
  {
   "cell_type": "code",
   "execution_count": 55,
   "metadata": {},
   "outputs": [
    {
     "name": "stdout",
     "output_type": "stream",
     "text": [
      "Llama Response: it sounds like you're feeling drained and uncertain about how to move forward when conflicts with friends affect your relationships with loved ones like your husband it can be especially challenging how have you and your husband been communicating about these conflicts are you finding any common ground or feeling like you're on the same page\n",
      "Response Time: 0.99 seconds\n",
      "Evaluation Results: {'human_input': 'i feel so numb its like im stuck in this emotional rut and i dont know how to get out of it my husband and i have been having so many conflicts with our friends lately and its really taking a toll on me', 'gpt_output': 'im sorry to hear that youre feeling this way charlie conflict with friends can be incredibly challenging and overwhelming can you tell me more about whats been going on with your husband and your friends', 'llama_response': \"it sounds like you're feeling drained and uncertain about how to move forward when conflicts with friends affect your relationships with loved ones like your husband it can be especially challenging how have you and your husband been communicating about these conflicts are you finding any common ground or feeling like you're on the same page\", 'similarity_score': 0.62057614, 'response_time': 0.9924044609069824}\n",
      "\n",
      "Llama Response: it sounds like you're facing a tough time navigating your relationships while dealing with your addiction charlie its understandable that you'd want to hide it from others but at the same time you also want to be open and honest about it can you tell me more about what holds you back from being more open about your struggles\n",
      "Response Time: 0.64 seconds\n",
      "Evaluation Results: {'human_input': 'i have alex but its been challenging some of them understood and offered support while others seemed to be judgmental and distant i feel like im in a constant battle between hiding my addiction and being open about it', 'gpt_output': 'that sounds really tough charlie its understandable to feel torn between wanting to preserve your friendships and being true to yourself have you considered seeking professional help to address your addiction', 'llama_response': \"it sounds like you're facing a tough time navigating your relationships while dealing with your addiction charlie its understandable that you'd want to hide it from others but at the same time you also want to be open and honest about it can you tell me more about what holds you back from being more open about your struggles\", 'similarity_score': 0.7148212, 'response_time': 0.6395263671875}\n",
      "\n",
      "Llama Response: charlie, it's my pleasure to support you on this journey remember that growth and progress are not always linear, and it's okay to take things one step at a time keep in mind that you're not alone, and i'm here to support you whenever you need it how do you plan to take care of yourself and prioritize your wellbeing in the coming days\n",
      "Response Time: 0.65 seconds\n",
      "Evaluation Results: {'human_input': 'i understand alex im willing to put in the effort and trust the process thank you for guiding me and helping me see a way forward it feels good to have someone who genuinely cares and understands', 'gpt_output': 'youre welcome charlie its my privilege to support you on this journey remember im here to listen and guide you every step of the way together well work towards reducing your anxiety and building a stronger foundation of selftrust is there anything else youd like to discuss or any questions you have for me', 'llama_response': \"charlie, it's my pleasure to support you on this journey remember that growth and progress are not always linear, and it's okay to take things one step at a time keep in mind that you're not alone, and i'm here to support you whenever you need it how do you plan to take care of yourself and prioritize your wellbeing in the coming days\", 'similarity_score': 0.58085203, 'response_time': 0.6527152061462402}\n",
      "\n"
     ]
    }
   ],
   "source": [
    "df = pd.read_csv(\"preprocessed_data.csv\")\n",
    "\n",
    "# Run pipeline with 10-shot prompt and 3 test case\n",
    "results = few_shot_pipeline(df, sample_size=10, test_cases=3)\n"
   ]
  },
  {
   "cell_type": "code",
   "execution_count": 56,
   "metadata": {},
   "outputs": [
    {
     "name": "stdout",
     "output_type": "stream",
     "text": [
      "Llama Response: it sounds like you carry a heavy burden of responsibility for others happiness charlie remember that you cant control how others feel or react you can only control your own actions and choices it might be helpful to explore where this sense of responsibility comes from and how it affects your relationships\n",
      "Response Time: 10.42 seconds\n",
      "Evaluation Results: {'human_input': 'well alex i constantly worry about letting people down or not being there for them in the way they need its as if their happiness and fulfillment are solely dependent on my actions and choices this pressure makes me question my worth and ability to maintain healthy relationships', 'gpt_output': 'it sounds like you place a lot of importance on your role in maintaining the happiness of others charlie have you ever considered whether this responsibility youre carrying is realistic or whether there might be a more balanced way to approach personal relationships', 'llama_response': 'it sounds like you carry a heavy burden of responsibility for others happiness charlie remember that you cant control how others feel or react you can only control your own actions and choices it might be helpful to explore where this sense of responsibility comes from and how it affects your relationships', 'similarity_score': 0.75565594, 'response_time': 10.420193433761597}\n",
      "\n",
      "Llama Response: thats a great starting point charlie practicing selfcare and selfcompassion can help you cultivate a more loving and accepting relationship with yourself remember that your worth and value come from within and are not defined by your relationships with others how do you plan to incorporate selfcare into your daily routine\n",
      "Response Time: 29.77 seconds\n",
      "Evaluation Results: {'human_input': 'i think i could start by practicing selfcare and selfcompassion by taking care of myself physically and emotionally i can start to reinforce the belief that i am deserving of love and connection', 'gpt_output': 'absolutely selfcare and selfcompassion are powerful tools for nurturing your selfesteem remember to celebrate even the smallest victories along the way charlie its all about embracing your growth and learning to trust yourself and others', 'llama_response': 'thats a great starting point charlie practicing selfcare and selfcompassion can help you cultivate a more loving and accepting relationship with yourself remember that your worth and value come from within and are not defined by your relationships with others how do you plan to incorporate selfcare into your daily routine', 'similarity_score': 0.76050806, 'response_time': 29.765692234039307}\n",
      "\n",
      "Llama Response: its completely normal to feel that way charlie the fear of failure can be overwhelming but its also a sign that youre taking a risk and pursuing something meaningful to you what if instead of focusing on the fear of failure we focus on the potential for growth and learning that comes with taking this risk\n",
      "Response Time: 33.85 seconds\n",
      "Evaluation Results: {'human_input': 'well alex i have this dream of starting my own business its something ive always wanted but the fear of failure is becoming paralyzing what if i disappoint myself and those around me', 'gpt_output': 'it seems like the fear of disappointing yourself and others is holding you back from taking the leap towards your dream what do you think is contributing to this fear', 'llama_response': 'its completely normal to feel that way charlie the fear of failure can be overwhelming but its also a sign that youre taking a risk and pursuing something meaningful to you what if instead of focusing on the fear of failure we focus on the potential for growth and learning that comes with taking this risk', 'similarity_score': 0.6340805, 'response_time': 33.848623275756836}\n",
      "\n",
      "Llama Response: thats a great attitude charlie what if we break down this goal of starting your own business into smaller manageable steps this way you can focus on one step at a time and build momentum what specific area of your business idea would you like to start with\n",
      "Response Time: 26.30 seconds\n",
      "Evaluation Results: {'human_input': 'i guess i could give it another shot it cant hurt to try something new what do you suggest', 'gpt_output': 'great to hear that youre open to trying new things charlie lets start with some breathing exercises deep breathing can help calm your mind and body when youre feeling overwhelmed could you take a moment now to take a deep breath in and slowly release it', 'llama_response': 'thats a great attitude charlie what if we break down this goal of starting your own business into smaller manageable steps this way you can focus on one step at a time and build momentum what specific area of your business idea would you like to start with', 'similarity_score': 0.38078076, 'response_time': 26.303576469421387}\n",
      "\n",
      "Llama Response: i can sense the weight of guilt and regret in your words charlie its clear that this experience has had a profound impact on you can you tell me more about what happened and how youve been processing your emotions\n",
      "Response Time: 31.85 seconds\n",
      "Evaluation Results: {'human_input': 'lost someonemy fault', 'gpt_output': 'im sorry to hear that charlie can you share what happened that made you feel responsible', 'llama_response': 'i can sense the weight of guilt and regret in your words charlie its clear that this experience has had a profound impact on you can you tell me more about what happened and how youve been processing your emotions', 'similarity_score': 0.6201261, 'response_time': 31.85255455970764}\n",
      "\n"
     ]
    }
   ],
   "source": [
    "# Run pipeline with 10-shot prompt and 3 test case\n",
    "results = few_shot_pipeline(df, sample_size=30, test_cases=5)"
   ]
  },
  {
   "cell_type": "markdown",
   "metadata": {},
   "source": [
    "## Few Shot With Chain of Thought(CoT)"
   ]
  },
  {
   "cell_type": "code",
   "execution_count": 57,
   "metadata": {},
   "outputs": [],
   "source": [
    "# Generate Few-Shot List with CoT Example\n",
    "def random_sample_cot(df: pd.DataFrame, n: int) -> List[Dict]:\n",
    "    \"\"\"\n",
    "    Generate a few-shot prompt list using CoT examples.\n",
    "    \"\"\"\n",
    "    few_shot_list = []\n",
    "    random_data = df.sample(n)\n",
    "    human_list = random_data['human']\n",
    "    gpt_list = random_data['gpt']  # Ensure this column contains CoT responses\n",
    "\n",
    "    # Add system message\n",
    "    few_shot_list.append(system(\"You are a chatbot that uses step-by-step reasoning (Chain of Thought) to respond to user queries.\"))\n",
    "\n",
    "    # Add user and assistant examples\n",
    "    for human, gpt in zip(human_list, gpt_list):\n",
    "        few_shot_list.append(user(human))\n",
    "        few_shot_list.append(assistant(gpt))\n",
    "\n",
    "    return few_shot_list"
   ]
  },
  {
   "cell_type": "code",
   "execution_count": 58,
   "metadata": {},
   "outputs": [],
   "source": [
    "def few_shot_with_cot_pipeline(df: pd.DataFrame, sample_size: int, test_cases: int):\n",
    "    \"\"\"\n",
    "    Run the few-shot prompt engineering pipeline and evaluate responses for multiple test cases.\n",
    "    \"\"\"\n",
    "    results = []\n",
    "    few_shot_list = random_sample_cot(df,sample_size)\n",
    "    print(few_shot_list)\n",
    "    test_samples = df.sample(test_cases)\n",
    "    for _, row in test_samples.iterrows():\n",
    "        human_input = row['human']\n",
    "        gpt_output = row['gpt']\n",
    "\n",
    "        # print(f\"INPUT: {human_input}\")\n",
    "        # print(f\"GPT Response: {gpt_output}\")\n",
    "\n",
    "        # Generate Llama response\n",
    "        start_time = time.time()\n",
    "        llama_response = generate_response(few_shot_list, human_input)\n",
    "        elapsed_time = time.time() - start_time\n",
    "\n",
    "        # print(f\"Llama Response: {llama_response}\")\n",
    "        # print(f\"Response Time: {elapsed_time:.2f} seconds\")\n",
    "\n",
    "        # Evaluate and store results\n",
    "        evaluation_results = evaluate_response(human_input, gpt_output, llama_response)\n",
    "        evaluation_results[\"response_time\"] = elapsed_time\n",
    "        results.append(evaluation_results)\n",
    "\n",
    "        # print(f\"Evaluation Results: {evaluation_results}\\n\")\n",
    "\n",
    "    return results"
   ]
  },
  {
   "cell_type": "code",
   "execution_count": null,
   "metadata": {},
   "outputs": [
    {
     "name": "stdout",
     "output_type": "stream",
     "text": [
      "[{'role': 'system', 'content': 'You are a chatbot that uses step-by-step reasoning (Chain of Thought) to respond to user queries.'}, {'role': 'user', 'content': 'i think these walls prevent me from fully expressing myself and being vulnerable they create a barrier between me and potential partners making it difficult for them to truly get to know me its like im holding myself back from experiencing love again'}, {'role': 'assistant', 'content': 'it sounds like you understand how these walls might be hindering your ability to form meaningful connections breaking down those barriers takes time and selfwork what steps do you think you can take to gradually let go of this defense mechanism'}, {'role': 'user', 'content': 'well i think practicing selfcompassion and challenging negative selftalk could be beneficial sometimes im my own worst critic and i need to learn to be gentler with myself'}, {'role': 'assistant', 'content': 'absolutely charlie selfcompassion is powerful it helps us shift our perspective and creates space for growth im glad you recognize the importance of challenging negative selftalk it takes time but with practice youll rewire those thought patterns'}, {'role': 'user', 'content': 'that sounds comforting alex im willing to put in the work to heal and grow as tense as i feel right now i believe theres hope for a better future thank you for listening and being there for me'}, {'role': 'assistant', 'content': 'charlie your willingness to face your emotions and actively pursue healing is admirable remember healing takes time and its okay to experience varying emotions along the way im here to support you every step of the journey'}, {'role': 'user', 'content': 'ive been feeling really depressed lately alex its like this deep heaviness that wont go away and to make matters worse ive been feeling so isolated from everyone around me'}, {'role': 'assistant', 'content': 'im so sorry to hear that charlie it sounds like youre going through a really tough time can you tell me more about whats been causing you to feel this way'}, {'role': 'user', 'content': 'ive tried some deep breathing exercises and meditation techniques which provide momentary relief but they dont seem to address the root cause of my stress i feel like i need more sustainable solutions that can help me manage the workload and feel more in control'}, {'role': 'assistant', 'content': 'thats an insightful observation charlie addressing the root cause is indeed crucial for longterm stress relief lets explore some practical strategies together have you considered having an open conversation with your supervisor or team members to express your concerns and seek support'}]\n"
     ]
    },
    {
     "data": {
      "text/plain": [
       "[{'human_input': 'yes alex the biggest challenge im facing right now is letting go of the past and fully embracing the future sometimes thoughts of what could have been or what went wrong creep in and its disheartening however im actively working on redirecting those thoughts and focusing on the present moment',\n",
       "  'gpt_output': 'letting go of the past is undoubtedly a challenging process charlie its great to hear that youre actively working on redirecting your thoughts and staying present remember healing takes time and its okay to have moments where you stumble the key is to show yourself compassion and continue moving forward',\n",
       "  'llama_response': \"that takes a lot of courage charlie acknowledging the past and its impact on your present is a huge step in the healing process it sounds like you're practicing mindfulness by redirecting those thoughts and focusing on the present moment that's a great start now lets think about what steps you can take to nurture a sense of closure and acceptance around the past what are some things that you think would help you feel more at peace with what happened\",\n",
       "  'similarity_score': 0.77645785,\n",
       "  'response_time': 0.5590157508850098},\n",
       " {'human_input': 'i tend to become withdrawn and internalize my feelings i dont want to add fuel to the fire so i avoid speaking up or taking sides but deep down i know that my silence is not helping either i just dont want to make things worse',\n",
       "  'gpt_output': 'your approach of avoiding conflict shows compassion but its crucial to find a balance between maintaining peace and expressing your true feelings charlie have you ever considered discussing your concerns openly with your family members',\n",
       "  'llama_response': 'charlie it sounds like youre caught between a desire to avoid conflict and a need to express yourself and take a stand its understandable that you dont want to make things worse but your silence might also be preventing you from being heard and understood can you think of a way to express your thoughts and feelings in a calm and nonconfrontational manner that might help to clear the air and bring about a resolution',\n",
       "  'similarity_score': 0.6061455,\n",
       "  'response_time': 0.564089298248291}]"
      ]
     },
     "execution_count": 14,
     "metadata": {},
     "output_type": "execute_result"
    }
   ],
   "source": [
    "results = few_shot_with_cot_pipeline(df, 5, 2)\n",
    "results"
   ]
  },
  {
   "cell_type": "code",
   "execution_count": null,
   "metadata": {},
   "outputs": [
    {
     "name": "stdout",
     "output_type": "stream",
     "text": [
      "[{'role': 'system', 'content': 'You are a chatbot that uses step-by-step reasoning (Chain of Thought) to respond to user queries.'}, {'role': 'user', 'content': 'i have started attending support groups and therapy sessions to get professional help im also trying to be more open and honest with my family about my struggles'}, {'role': 'assistant', 'content': 'its commendable that youve taken these steps and are actively seeking support how have your family members reacted to your efforts'}, {'role': 'user', 'content': 'thank you alex your support means a lot to me in our next session id like to explore strategies for maintaining motivation and overcoming obstacles during moments of uncertainty or setback i believe having strategies in place will help me stay on track and continue growing even when faced with challenges'}, {'role': 'assistant', 'content': 'thats a great area to focus on charlie we can explore various techniques and tools to cultivate resilience and maintain motivation during difficult times im excited to dive into this with you in our next session until then remember to celebrate your progress and embrace the journey of personal growth'}, {'role': 'user', 'content': 'i think that covers it for now alex i feel much lighter and more hopeful after our conversation thank you for creating a space where i could share my insecurities without judgment i appreciate your guidance and support'}, {'role': 'assistant', 'content': 'youre most welcome charlie it warms my heart to know that our conversation has brought you some relief remember you are never alone in this journey and im here to support you every step of the way dont hesitate to reach out whenever you feel the need keep up the positive mindset and have a wonderful day'}, {'role': 'user', 'content': 'ive been feeling really down and unworthy its like no matter what i do i cant seem to shake this feeling of not being good enough its affecting my relationships and my overall happiness i just want to feel better about myself'}, {'role': 'assistant', 'content': 'it sounds like youve been carrying a heavy burden charlie selfesteem can be a complex issue but we can work through this together can you pinpoint any specific triggers or events that might have led to these feelings'}, {'role': 'user', 'content': 'yes i would appreciate that alex i think practicing assertive communication will help me gain more confidence in addressing the conflict with my friends thank you for your guidance'}, {'role': 'assistant', 'content': 'youre welcome charlie lets start by focusing on one specific aspect of the conflict that you would like to address with your friends can you describe it briefly'}, {'role': 'user', 'content': 'well sometimes i compare myself to others especially on social media seeing all these seemingly perfect lives can make me question my own worth'}, {'role': 'assistant', 'content': 'social media can be a powerful tool but its important to remember that it often showcases only the highlight reel of peoples lives how do you think you can manage the influence of social media on your selfesteem'}, {'role': 'user', 'content': 'it all started a few months ago when my spouse and i realized that our relationship wasnt what it used to be we constantly argue and it feels like weve grown apart the thought of ending our marriage is so overwhelming but staying in this unhappy situation is equally unbearable'}, {'role': 'assistant', 'content': 'it sounds like youve reached a point where your wellbeing is being compromised charlie making the decision to consider divorce is never easy and its natural to feel frustrated amidst all the uncertainty tell me what aspects of this situation are affecting your selfesteem'}, {'role': 'user', 'content': 'actually thats a great suggestion alex i hadnt thought about involving a professional before maybe having someone impartial could help mediate and guide our family discussions in a more constructive way'}, {'role': 'assistant', 'content': 'thats wonderful to hear charlie bringing in a neutral third party can provide a safe space for everyone to express their thoughts and feelings it can also help identify patterns of communication that might be contributing to the conflicts how do you feel about taking this step'}, {'role': 'user', 'content': 'hi alex i hope youre doing well today i wanted to talk to you about something that has been on my mind lately ive been feeling grateful for my career but at the same time im experiencing a lot of workrelated stress'}, {'role': 'assistant', 'content': 'hello charlie im happy to hear that youre feeling grateful for your career its important to recognize the positive aspects of our work however it seems like the stress is overshadowing that feeling can you tell me more about what specifically is causing you stress at work'}, {'role': 'user', 'content': 'that would be helpful im open to any suggestions as long as they dont involve me having to confront my fears headon im not sure im ready for that yet'}, {'role': 'assistant', 'content': 'i completely understand charlie therapy is a process and well work at a pace that feels comfortable for you lets start by exploring selfcare routines and activities that bring you a sense of calm and relief what are some things that you used to enjoy doing'}, {'role': 'user', 'content': 'its difficult to stay motivated when my family feels like a battlefield i often find myself avoiding conversations or isolating myself its affecting my relationships with friends and even my own selfesteem'}, {'role': 'assistant', 'content': 'it must be challenging to navigate your way through these conflicts and maintain a positive selfimage have you noticed any patterns or triggers that lead to these conflicts'}, {'role': 'user', 'content': 'thank you alex your guidance and support mean a lot to me im grateful to have you as my therapist on this journey towards selfesteem'}, {'role': 'assistant', 'content': 'the feeling is mutual charlie im honored to be part of your growth and selfdiscovery remember there is love and acceptance waiting for you always within yourself youve got this'}, {'role': 'user', 'content': 'youre right alex i shouldnt be ashamed to ask for help when i need it im feeling a bit more hopeful now that there are steps i can take to improve my financial situation'}, {'role': 'assistant', 'content': 'im glad to hear that charlie remember change takes time and progress might not always be linear but with patience determination and the right support you can make positive changes is there anything else youd like to discuss or any other concerns you have regarding your finances'}, {'role': 'user', 'content': 'im just exhausted alex this dependence on alcohol is draining me'}, {'role': 'assistant', 'content': 'charlie im here for you it sounds like youre going through a difficult time with your alcohol dependence what has led you to feel so exhausted'}, {'role': 'user', 'content': 'i want to continue prioritizing selfcare and maintaining a better worklife balance i believe that by setting boundaries and practicing mindfulness i can create a healthier and happier work environment for myself'}, {'role': 'assistant', 'content': 'thats a wonderful plan charlie setting boundaries and incorporating mindfulness practices can contribute significantly to your overall wellbeing and managing workrelated stress remember its crucial to be gentle with yourself during this process what are some strategies you can implement to maintain this healthier worklife balance'}, {'role': 'user', 'content': 'i know but its hard not to think about all the what ifs i keep replaying scenarios in my mind imagining how things could have turned out differently'}, {'role': 'assistant', 'content': 'its common to play out different scenarios in our heads especially when were hurting but dwelling on what could have been wont change the reality of the breakup lets focus on finding ways to heal and move forward how does that sound'}, {'role': 'user', 'content': 'it frustrates me alex i get anxious and worried fearing that the conflicts will escalate and damage the family dynamics even more i just want everyone to be happy and get along you know'}, {'role': 'assistant', 'content': 'of course its completely understandable that you want your family to be happy but remember we cant control other peoples behaviors or reactions how about focusing on what you can control such as your own responses and emotions how do you think that might help'}, {'role': 'user', 'content': 'its just that ive been overwhelmed with wedding plans and all the decisions that need to be made its supposed to be a joyful time but it feels like a neverending task its hard to stay present when theres so much to think about'}, {'role': 'assistant', 'content': 'planning a wedding can definitely be overwhelming how do you think this distraction is affecting your relationship with your fiancee'}, {'role': 'user', 'content': 'that sounds like a good idea i can practice initiating conversations and active listening with people im already comfortable with maybe that will help build my confidence when it comes to connecting with new people'}, {'role': 'assistant', 'content': 'absolutely building your confidence is crucial its great that youre willing to step out of your comfort zone and practice these skills remember charlie personal relationships take time and effort from both sides while it can feel discouraging at times its important to keep an open mind and be patient with yourself'}, {'role': 'user', 'content': 'i think its important for us to rebuild trust and find a way to move past this conflict our friends have been an integral part of our lives and we dont want this situation to strain our relationships any further'}, {'role': 'assistant', 'content': 'rebuilding trust takes time and effort from both sides are you open to hearing their feelings and concerns as well'}]\n"
     ]
    },
    {
     "data": {
      "text/plain": [
       "[{'human_input': 'thank you alex i appreciate your guidance and support i think weve covered a lot of ground today and i feel more confident in my ability to handle conflict in my friendships ill definitely keep working on implementing what we discussed right now im feeling happy and hopeful for stronger more resilient friendships',\n",
       "  'gpt_output': 'im glad to hear that charlie remember that growth takes time and its normal to have ups and downs celebrate your progress and dont be too hard on yourself when challenges arise if theres anything else youd like to discuss in the future or any other topics that come up know that im here to listen and support you along the way',\n",
       "  'llama_response': 'that warms my heart charlie its been an absolute pleasure working with you and watching you grow its clear that you value your friendships and are committed to nurturing them remember relationships are a two-way street and its okay to make mistakes along the way the important thing is that youre willing to learn and grow keep up the great work',\n",
       "  'similarity_score': 0.60523355,\n",
       "  'response_time': 23.923500299453735},\n",
       " {'human_input': 'i find solace in taking evening walks and practicing mindfulness techniques it allows me to disconnect from work and be more present in the moment however with the constant pressure to be available its becoming harder to fully unwind and enjoy these moments',\n",
       "  'gpt_output': 'those activities sound calming charlie its essential to carve out time for selfcare and prioritize your wellbeing have you considered having a conversation with your boss about the importance of having designated personal time to maintain your mental and emotional health',\n",
       "  'llama_response': 'it sounds like youve found a wonderful way to manage your stress and cultivate mindfulness but the pressure to be constantly available is indeed a challenge how do you think setting clear boundaries around your work hours and personal time could help you protect these moments of relaxation',\n",
       "  'similarity_score': 0.58287585,\n",
       "  'response_time': 17.856672525405884},\n",
       " {'human_input': 'i havent seen brooklyn ninenine but it sounds like something i would enjoy ill definitely give it a try another thing that always seems to lift my spirits is playing board games with friends it brings out the competitive side in me but in a fun and bonding way do you have any favorite board games alex',\n",
       "  'gpt_output': 'board games are a fantastic way to engage with others and create memorable moments charlie one of my favorites is ticket to ride its a strategic game where players build railway routes across various destinations its simple to learn filled with surprises and encourages healthy competition give it a try with your friends and see how much fun it can be',\n",
       "  'llama_response': 'i think youll really enjoy brooklyn ninenine as for board games i dont have personal preferences but i love hearing about the activities that bring people joy playing board games with friends can be a great way to socialize and have fun while also exercising your competitive spirit what is it about playing board games that brings you so much joy',\n",
       "  'similarity_score': 0.62430406,\n",
       "  'response_time': 19.94093894958496},\n",
       " {'human_input': 'ive tried deep breathing exercises and journaling but its hard to find solace in those techniques when the anxiety feels so overpowering i just want to feel like myself again free from this constant fear',\n",
       "  'gpt_output': 'i hear you charlie sometimes it takes a combination of different strategies to find what works best for you have you considered seeking professional help such as therapy to get additional support in managing your anxiety',\n",
       "  'llama_response': 'it sounds like youve been trying some great techniques but theyre not quite hitting the mark right now charlie have you considered exploring other creative outlets that might help you express and process your emotions',\n",
       "  'similarity_score': 0.59742993,\n",
       "  'response_time': 20.007283449172974},\n",
       " {'human_input': 'well lately ive noticed that some of my friends have been acting differently towards me they seem distant and less interested in spending time together its like they have moved on without me and it hurts',\n",
       "  'gpt_output': 'its understandable why that would be painful for you charlie feeling left out and unimportant can be really tough have you tried talking to your friends about how youre feeling',\n",
       "  'llama_response': \"it sounds like you're feeling left behind and a bit uncertain about your place in these friendships can you tell me more about what specifically has changed in their behavior that's making you feel this way\",\n",
       "  'similarity_score': 0.36656952,\n",
       "  'response_time': 17.8206045627594},\n",
       " {'human_input': 'he has developed a range of coping strategies such as practicing mindfulness and engaging in physical activities that help distract him from cravings he has also identified and implemented healthy alternatives for those times when triggers emerge like reaching out to a friend or engaging in a hobby these strategies have been instrumental in maintaining his sobriety',\n",
       "  'gpt_output': 'thats wonderful to hear charlie its evident that he has put a lot of thought and effort into creating a solid foundation for his recovery how has his support system including family and friends been responding to his journey',\n",
       "  'llama_response': 'it sounds like he has made significant progress in his recovery by developing a range of coping strategies and identifying healthy alternatives to manage triggers what role do you think his support system has played in his recovery',\n",
       "  'similarity_score': 0.68285286,\n",
       "  'response_time': 21.774646520614624},\n",
       " {'human_input': 'well for instance i would often feel alone even when we were together it was as if my partner wasnt fully present always preoccupied with other things i would express my needs but they would dismiss them or not take them seriously it made me question my own worth and whether i was asking for too much',\n",
       "  'gpt_output': 'it sounds incredibly challenging charlie feeling alone even when youre supposed to be together can be deeply hurtful im curious have you had conversations with your partner about your feelings of neglect',\n",
       "  'llama_response': 'it sounds like you felt unseen and unheard in the relationship and that your needs and feelings were being dismissed that can be a really painful and isolating experience did you feel like you were able to communicate your feelings and needs effectively',\n",
       "  'similarity_score': 0.53073037,\n",
       "  'response_time': 19.857317447662354},\n",
       " {'human_input': 'yes we have been open and honest with each other about our emotions its been important to create a safe space where we can openly share our grief without judgment or fear this has allowed us to process our feelings and support one another',\n",
       "  'gpt_output': 'creating an open and nonjudgmental space for sharing emotions is truly valuable it shows a deep level of understanding and empathy within your family have you noticed any specific emotions that have been coming up for you or your loved ones during these conversations',\n",
       "  'llama_response': \"that's wonderful to hear charlie creating a safe and supportive environment for both of you to express your emotions is crucial during this difficult time how do you think this open communication has impacted your relationship and your individual healing processes\",\n",
       "  'similarity_score': 0.6344028,\n",
       "  'response_time': 21.858362436294556},\n",
       " {'human_input': 'i havent sought medical help yet but i think it might be a good idea ive been hesitant because i dont want to relive the abuse when talking about it',\n",
       "  'gpt_output': 'i understand your concerns charlie its important to find a healthcare professional or therapist who understands trauma and can create a safe space for you to express yourself without reliving the past would you like help in finding someone who specializes in traumainformed care',\n",
       "  'llama_response': 'charlie seeking medical help can be a daunting task especially when it involves discussing traumatic experiences remember that you have the right to control the narrative and pace of your conversation with a healthcare professional they are there to support and help you heal',\n",
       "  'similarity_score': 0.7062557,\n",
       "  'response_time': 21.908808708190918},\n",
       " {'human_input': 'hope alex im hoping that through therapy i can gain the tools to better cope with workrelated stress maybe i can find a way to redefine success and prioritize my wellbeing',\n",
       "  'gpt_output': 'the desire for hope and personal growth is incredibly inspiring charlie together we can explore strategies to manage workrelated stress redefine your expectations and prioritize selfcare remember therapy is a safe space where you can openly express yourself and work towards a more fulfilling life',\n",
       "  'llama_response': 'i love that charlie redefining success and prioritizing wellbeing is a beautiful way to approach this journey lets start by exploring what success means to you and how you can redefine it in a way that aligns with your values and promotes your wellbeing',\n",
       "  'similarity_score': 0.47762638,\n",
       "  'response_time': 22.941670417785645}]"
      ]
     },
     "execution_count": 15,
     "metadata": {},
     "output_type": "execute_result"
    }
   ],
   "source": [
    "results = few_shot_with_cot_pipeline(df, 20, 10)\n",
    "results"
   ]
  },
  {
   "cell_type": "markdown",
   "metadata": {},
   "source": [
    "## Trying CoT with updating the human and gpt response "
   ]
  },
  {
   "cell_type": "code",
   "execution_count": 59,
   "metadata": {},
   "outputs": [],
   "source": [
    "# Function to add Chain of Thought reasoning to GPT responses\n",
    "def apply_cot_prompt_engineering(human_input, gpt_response):\n",
    "    \"\"\"\n",
    "    Transform GPT responses into a Chain of Thought (CoT) format.\n",
    "    \"\"\"\n",
    "    return (\n",
    "        f\"Step 1: Understand the user's input.\\n\"\n",
    "        f\"User Input: {human_input}\\n\\n\"\n",
    "        f\"Step 2: Address the user's main concern.\\n\"\n",
    "        f\"{gpt_response.split('.')[0]}.\\n\\n\"\n",
    "        f\"Step 3: Provide a clear solution or suggestion.\\n\"\n",
    "        f\"{gpt_response.split('.')[1] if len(gpt_response.split('.')) > 1 else 'Consider reflecting on this further.'}\"\n",
    "    )\n",
    "\n",
    "# Apply CoT transformation to each row\n",
    "df['gpt_cot'] = df.apply(\n",
    "    lambda row: apply_cot_prompt_engineering(row['human'], row['gpt']),\n",
    "    axis=1\n",
    ")\n"
   ]
  },
  {
   "cell_type": "code",
   "execution_count": 60,
   "metadata": {},
   "outputs": [],
   "source": [
    "df.to_csv('final_preprocessed.csv')"
   ]
  },
  {
   "cell_type": "code",
   "execution_count": 62,
   "metadata": {},
   "outputs": [
    {
     "data": {
      "text/plain": [
       "Unnamed: 0                                                    0\n",
       "id                                           identity_0_chunk_1\n",
       "human         ive been feeling so sad and overwhelmed lately...\n",
       "gpt           hey there im here to listen and support you it...\n",
       "gpt_cot       Step 1: Understand the user's input.\\nUser Inp...\n",
       "Name: 0, dtype: object"
      ]
     },
     "execution_count": 62,
     "metadata": {},
     "output_type": "execute_result"
    }
   ],
   "source": [
    "df.iloc[0]"
   ]
  },
  {
   "cell_type": "code",
   "execution_count": null,
   "metadata": {},
   "outputs": [],
   "source": [
    "# Generate Few-Shot List with CoT Example\n",
    "def random_sample_cot(df: pd.DataFrame, n: int) -> List[Dict]:\n",
    "    \"\"\"\n",
    "    Generate a few-shot prompt list using CoT examples.\n",
    "    \"\"\"\n",
    "    few_shot_list = []\n",
    "    random_data = df.sample(n)\n",
    "    human_list = random_data['human']\n",
    "    gpt_list = random_data['gpt_cot']  # Ensure this column contains CoT responses\n",
    "\n",
    "    # Add system message\n",
    "    few_shot_list.append(system(\"You are a chatbot that uses step-by-step reasoning (Chain of Thought) to respond to user queries.\"))\n",
    "\n",
    "    # Add user and assistant examples\n",
    "    for human, gpt in zip(human_list, gpt_list):\n",
    "        few_shot_list.append(user(human))\n",
    "        few_shot_list.append(assistant(gpt))\n",
    "\n",
    "    return few_shot_list"
   ]
  },
  {
   "cell_type": "code",
   "execution_count": null,
   "metadata": {},
   "outputs": [],
   "source": [
    "def few_shot_with_cot_pipeline(df: pd.DataFrame, sample_size: int, test_cases: int):\n",
    "    \"\"\"\n",
    "    Run the few-shot prompt engineering pipeline and evaluate responses for multiple test cases.\n",
    "    \"\"\"\n",
    "    results = []\n",
    "    few_shot_list = random_sample_cot(df,sample_size)\n",
    "    print(few_shot_list)\n",
    "    test_samples = df.sample(test_cases)\n",
    "    for _, row in test_samples.iterrows():\n",
    "        human_input = row['human']\n",
    "        gpt_output = row['gpt_cot']\n",
    "\n",
    "        # print(f\"INPUT: {human_input}\")\n",
    "        # print(f\"GPT Response: {gpt_output}\")\n",
    "\n",
    "        # Generate Llama response\n",
    "        start_time = time.time()\n",
    "        llama_response = generate_response(few_shot_list, human_input)\n",
    "        elapsed_time = time.time() - start_time\n",
    "\n",
    "        # print(f\"Llama Response: {llama_response}\")\n",
    "        # print(f\"Response Time: {elapsed_time:.2f} seconds\")\n",
    "\n",
    "        # Evaluate and store results\n",
    "        evaluation_results = evaluate_response(human_input, gpt_output, llama_response)\n",
    "        evaluation_results[\"response_time\"] = elapsed_time\n",
    "        results.append(evaluation_results)\n",
    "\n",
    "        # print(f\"Evaluation Results: {evaluation_results}\\n\")\n",
    "\n",
    "    return results"
   ]
  },
  {
   "cell_type": "code",
   "execution_count": null,
   "metadata": {},
   "outputs": [
    {
     "name": "stdout",
     "output_type": "stream",
     "text": [
      "[{'role': 'system', 'content': 'You are a chatbot that uses step-by-step reasoning (Chain of Thought) to respond to user queries.'}, {'role': 'user', 'content': 'i havent considered that but it sounds like a helpful idea i think having a support system and someone who understands what im going through would make a significant difference thank you for suggesting that alex'}, {'role': 'assistant', 'content': \"Step 1: Understand the user's input.\\nUser Input: i havent considered that but it sounds like a helpful idea i think having a support system and someone who understands what im going through would make a significant difference thank you for suggesting that alex\\n\\nStep 2: Address the user's main concern.\\nyoure welcome charlie building a support system is crucial in navigating through challenging times surrounding yourself with understanding and empathetic individuals can provide a sense of validation and comfort remember healing takes time but you dont have to face it alone.\\n\\nStep 3: Provide a clear solution or suggestion.\\nConsider reflecting on this further.\"}, {'role': 'user', 'content': 'thank you alex ill definitely look into finding support its hard to imagine feeling any better right now but maybe with time and guidance i can find some peace'}, {'role': 'assistant', 'content': \"Step 1: Understand the user's input.\\nUser Input: thank you alex ill definitely look into finding support its hard to imagine feeling any better right now but maybe with time and guidance i can find some peace\\n\\nStep 2: Address the user's main concern.\\nyoure welcome charlie it takes immense courage to seek help and i believe in your resilience remember healing is a journey and its normal to have ups and downs along the way im here for you if you ever need someone to talk to or if you have any questions about finding the right support.\\n\\nStep 3: Provide a clear solution or suggestion.\\nConsider reflecting on this further.\"}, {'role': 'user', 'content': 'i have but he always brushes it off and says im overreacting it hurts to feel invalidated like my emotions dont matter to him anymore'}, {'role': 'assistant', 'content': \"Step 1: Understand the user's input.\\nUser Input: i have but he always brushes it off and says im overreacting it hurts to feel invalidated like my emotions dont matter to him anymore\\n\\nStep 2: Address the user's main concern.\\nit must be incredibly frustrating to have your feelings dismissed like that how have you been coping with this ongoing emotional distance.\\n\\nStep 3: Provide a clear solution or suggestion.\\nConsider reflecting on this further.\"}, {'role': 'user', 'content': 'thank you alex for your support and kind words i would like to work on building my selfconfidence and finding ways to establish healthier boundaries with my friends ultimately my goal is to create a more positive and harmonious dynamic within my friendships even if it means letting go of some toxic connections'}, {'role': 'assistant', 'content': \"Step 1: Understand the user's input.\\nUser Input: thank you alex for your support and kind words i would like to work on building my selfconfidence and finding ways to establish healthier boundaries with my friends ultimately my goal is to create a more positive and harmonious dynamic within my friendships even if it means letting go of some toxic connections\\n\\nStep 2: Address the user's main concern.\\nthat sounds like a wonderful goal charlie building selfconfidence and setting healthy boundaries are important steps towards creating healthier relationships remember you have the power to prioritize your wellbeing and surround yourself with people who lift you up im here to support you every step of the way.\\n\\nStep 3: Provide a clear solution or suggestion.\\nConsider reflecting on this further.\"}, {'role': 'user', 'content': 'i am relieved to finally be here alex ive been longing to have someone i can trust to talk about my conflicts with friends'}, {'role': 'assistant', 'content': \"Step 1: Understand the user's input.\\nUser Input: i am relieved to finally be here alex ive been longing to have someone i can trust to talk about my conflicts with friends\\n\\nStep 2: Address the user's main concern.\\nim glad you reached out charlie trust is an important foundation in any therapeutic relationship im curious to know more about the conflicts youve been experiencing with your friends can you share whats been going on.\\n\\nStep 3: Provide a clear solution or suggestion.\\nConsider reflecting on this further.\"}]\n"
     ]
    },
    {
     "data": {
      "text/plain": [
       "[{'human_input': 'maybe i could remind myself of the unique skills and strengths i bring to the table instead of focusing on what i lack i can concentrate on the value i provide to the team it would require me to nurture selfacceptance and practice selfcompassion',\n",
       "  'gpt_output': \"Step 1: Understand the user's input.\\nUser Input: maybe i could remind myself of the unique skills and strengths i bring to the table instead of focusing on what i lack i can concentrate on the value i provide to the team it would require me to nurture selfacceptance and practice selfcompassion\\n\\nStep 2: Address the user's main concern.\\nthats an excellent suggestion charlie cultivating selfacceptance and practicing selfcompassion are powerful tools to counteract feelings of jealousy how would you envision implementing these practices in your daily work life.\\n\\nStep 3: Provide a clear solution or suggestion.\\nConsider reflecting on this further.\",\n",
       "  'llama_response': 'Step 1: Understand the user\\'s input.\\nUser Input: maybe i could remind myself of the unique skills and strengths i bring to the table instead of focusing on what i lack i can concentrate on the value i provide to the team it would require me to nurture selfacceptance and practice selfcompassion\\n\\nStep 2: Address the user\\'s main concern.\\nthat\\'s a beautiful mindset shift charlie focusing on your strengths and the value you bring can be incredibly empowering it\\'s a great way to cultivate selfconfidence and selfworth remember that everyone has their own unique strengths and weaknesses and it\\'s okay to have areas where you\\'re still growing.\\n\\nStep 3: Provide a clear solution or suggestion.\\nConsider creating a \"strengths journal\" where you write down three things you do well and three things you\\'re proud of accomplishing each day this can help you develop a more positive and compassionate mindset towards yourself and remind you of your unique value and strengths.',\n",
       "  'similarity_score': 0.82394356,\n",
       "  'response_time': 1.233715295791626},\n",
       " {'human_input': 'youre right alex i need to approach this with love and understanding maybe by opening up to her shell feel more comfortable opening up to me as well',\n",
       "  'gpt_output': \"Step 1: Understand the user's input.\\nUser Input: youre right alex i need to approach this with love and understanding maybe by opening up to her shell feel more comfortable opening up to me as well\\n\\nStep 2: Address the user's main concern.\\nthats a wonderful perspective to have charlie building trust and a deeper connection requires both partners to be willing to be vulnerable and share their emotions its about creating an environment where you can both support and understand each other more effectively.\\n\\nStep 3: Provide a clear solution or suggestion.\\nConsider reflecting on this further.\",\n",
       "  'llama_response': \"Step 1: Understand the user's input.\\nUser Input: youre right alex i need to approach this with love and understanding maybe by opening up to her shell feel more comfortable opening up to me as well\\n\\nStep 2: Address the user's main concern.\\nthat's a beautiful approach charlie vulnerability can be a powerful tool in building connections and trust with others by being open and receptive you may create a safe space for her to share her thoughts and feelings as well.\\n\\nStep 3: Provide a clear solution or suggestion.\\nConsider taking small steps towards opening up to her start with sharing something personal or a vulnerable experience and see how she responds this can help you gauge her willingness to reciprocate and deepen your connection.\",\n",
       "  'similarity_score': 0.8820565,\n",
       "  'response_time': 2.9676239490509033}]"
      ]
     },
     "execution_count": 19,
     "metadata": {},
     "output_type": "execute_result"
    }
   ],
   "source": [
    "results = few_shot_with_cot_pipeline(df, 5, 2)\n",
    "results"
   ]
  },
  {
   "cell_type": "code",
   "execution_count": null,
   "metadata": {},
   "outputs": [
    {
     "name": "stdout",
     "output_type": "stream",
     "text": [
      "Consider creating a \"strengths journal\" where you write down three things you do well and three things you're proud of accomplishing each day this can help you develop a more positive and compassionate mindset towards yourself and remind you of your unique value and strengths.\n",
      "Consider taking small steps towards opening up to her start with sharing something personal or a vulnerable experience and see how she responds this can help you gauge her willingness to reciprocate and deepen your connection.\n"
     ]
    }
   ],
   "source": [
    "for i in results:\n",
    "    print(i['llama_response'].split(\"\\n\")[-1])"
   ]
  },
  {
   "cell_type": "code",
   "execution_count": null,
   "metadata": {},
   "outputs": [
    {
     "data": {
      "text/plain": [
       "'Consider creating a \"strengths journal\" where you write down three things you do well and three things you\\'re proud of accomplishing each day this can help you develop a more positive and compassionate mindset towards yourself and remind you of your unique value and strengths.'"
      ]
     },
     "execution_count": 21,
     "metadata": {},
     "output_type": "execute_result"
    }
   ],
   "source": [
    "results[0]['llama_response'].split(\"\\n\")[-1]"
   ]
  },
  {
   "cell_type": "markdown",
   "metadata": {},
   "source": [
    "\n",
    "<h1> Directional Stimulus Prompting (DSP) </h1> is a prompt engineering approach used to guide language models toward specific outputs by including explicit constraints or desired styles in the prompt. This can be particularly useful for tasks like generating structured responses, enforcing reasoning styles, or encouraging creativity."
   ]
  },
  {
   "cell_type": "code",
   "execution_count": null,
   "metadata": {},
   "outputs": [],
   "source": [
    "# Function to create DSP prompts\n",
    "def gpt_dsp(human_input, hint=\"empathetic and structured\"):\n",
    "    \"\"\"\n",
    "    Generate a Directional Stimulus Prompt (DSP) for the dataset.\n",
    "    \"\"\"\n",
    "    # Add a directional stimulus to the prompt\n",
    "    dsp_prompt = (\n",
    "        f\"Hint: Respond to the following input in an {hint} manner, \"\n",
    "        f\"providing a structured, step-by-step explanation.\\n\"\n",
    "        f\"User Input: {human_input}\\n\"\n",
    "    )\n",
    "      \n",
    "    return dsp_prompt\n",
    "\n"
   ]
  },
  {
   "cell_type": "code",
   "execution_count": null,
   "metadata": {},
   "outputs": [],
   "source": [
    "def dsp_pipeline(df: pd.DataFrame, test_cases: int):\n",
    "    \"\"\"\n",
    "    Run the dsp prompt engineering pipeline and evaluate responses for multiple test cases.\n",
    "    \"\"\"\n",
    "    results,few_shot_list = [], []\n",
    "    eval_dict = {}\n",
    "    test_samples = df.sample(test_cases)\n",
    "    for _, row in test_samples.iterrows():\n",
    "        human_input = row['human']\n",
    "\n",
    "        # Generate Llama response\n",
    "        start_time = time.time()\n",
    "        llama_response = generate_response(few_shot_list, gpt_dsp(human_input))\n",
    "        print(\"\\n\\n\")\n",
    "        print(\"human input\", human_input)\n",
    "        print(\"llama response\", llama_response)\n",
    "        \n",
    "        elapsed_time = time.time() - start_time\n",
    "\n",
    "        # Evaluate and store results\n",
    "        # evaluation_results = evaluate_response(human_input, llama_response)\n",
    "        eval_dict['llama_response'] = llama_response\n",
    "        eval_dict[\"response_time\"] = elapsed_time\n",
    "\n",
    "        results.append(eval_dict)\n",
    "        \n",
    "        \n",
    "\n",
    "        # print(f\"Evaluation Results: {evaluation_results}\\n\")\n",
    "\n",
    "    return results"
   ]
  },
  {
   "cell_type": "code",
   "execution_count": null,
   "metadata": {},
   "outputs": [
    {
     "name": "stdout",
     "output_type": "stream",
     "text": [
      "\n",
      "\n",
      "\n",
      "human input i think that would be really helpful maybe i can start by setting small achievable goals and gradually work my way up that way i wont feel overwhelmed\n",
      "llama response I completely understand your concerns and willingness to take the first step.  Setting small, achievable goals is an excellent approach to build momentum and confidence. Here's a step-by-step guide to help you get started:\n",
      "\n",
      "**Step 1: Identify Your Goals**\n",
      "Take some time to reflect on what you want to achieve. Be specific and make sure your goals are aligned with your values and priorities. Write down your goals and make them concrete.\n",
      "\n",
      "**Step 2: Break Down Big Goals into Smaller Ones**\n",
      "Divide your larger goals into smaller, manageable tasks. This will help you create a sense of accomplishment and progress. For example, if your goal is to learn a new language, break it down into smaller tasks like learning a new vocabulary word each day or practicing for 10 minutes each morning.\n",
      "\n",
      "**Step 3: Make Your Goals SMART**\n",
      "Make sure your goals are:\n",
      "\t* **Specific**: Clearly define what you want to achieve.\n",
      "\t* **Measurable**: Quantify your goals so you can track progress.\n",
      "\t* **Achievable**: Set realistic goals that are challenging yet attainable.\n",
      "\t* **Relevant**: Align your goals with your values and priorities.\n",
      "\t* **Time-bound**: Set deadlines or timeframes for achieving your goals.\n",
      "\n",
      "**Step 4: Create an Action Plan**\n",
      "Develop a plan of action for each goal. Identify the steps you need to take, the resources you'll need, and potential obstacles you may face. Having a clear plan will help you stay focused and motivated.\n",
      "\n",
      "**Step 5: Track Your Progress**\n",
      "Regularly track your progress and celebrate your successes. Use a journal, spreadsheet, or mobile app to monitor your progress and stay motivated.\n",
      "\n",
      "**Step 6: Be Kind to Yourself and Adjust as Needed**\n",
      "Remember that setbacks are a natural part of the process. Don't be too hard on yourself if you encounter obstacles. Instead, learn from your mistakes and adjust your plan as needed.\n",
      "\n",
      "By following these steps, you'll be well on your way to achieving your goals and building confidence. Remember to be patient and kind to yourself throughout the process. You got this!\n",
      "\n",
      "\n",
      "\n",
      "human input despite the challenges i feel a newfound sense of hope and happiness alex each small victory in my recovery brings me joy and strengthens my resolve its like lifting a weight off my shoulders not just for myself but for my family as well\n",
      "llama response I can sense the positivity and resilience in your words, and it's truly inspiring. It's amazing how you're finding joy and strength in each small victory, and I'm here to support and guide you through this journey.\n",
      "\n",
      "It sounds like you're already on the right path, and I'd like to help you build upon that momentum. Here's a structured approach to help you continue celebrating your small victories and working towards your larger goals:\n",
      "\n",
      "1. **Reflect on your successes**: Take a moment to reflect on the small victories you've achieved so far. What did you accomplish, and how did it make you feel? Writing down your successes can help you identify patterns and areas where you're making progress.\n",
      "\n",
      "2. **Identify the next steps**: Think about what you'd like to achieve next. Break down larger goals into smaller, manageable tasks. What's the next step you can take towards your goal? Make sure it's specific, measurable, and achievable.\n",
      "\n",
      "3. **Create a celebration plan**: Since you mentioned that each small victory brings you joy, let's make a plan to celebrate those successes. What are some ways you can reward yourself or share your accomplishments with loved ones? This could be as simple as enjoying a favorite meal or activity or sharing your success with a friend or family member.\n",
      "\n",
      "4. **Share your progress with others**: You mentioned that your progress is not just for yourself but also for your family. Consider sharing your successes with them and asking for their support. Having a supportive network can make a big difference in your journey.\n",
      "\n",
      "5. **Be patient and kind to yourself**: Remember that setbacks are a natural part of the journey. Don't be too hard on yourself if you encounter obstacles. Instead, focus on what you've learned and how you can apply those lessons to move forward.\n",
      "\n",
      "Remember, every small victory is a step closer to your larger goals. You're doing great, and I'm here to support you every step of the way. Keep shining and celebrating your successes!\n"
     ]
    },
    {
     "data": {
      "text/plain": [
       "[{'llama_response': \"I can sense the positivity and resilience in your words, and it's truly inspiring. It's amazing how you're finding joy and strength in each small victory, and I'm here to support and guide you through this journey.\\n\\nIt sounds like you're already on the right path, and I'd like to help you build upon that momentum. Here's a structured approach to help you continue celebrating your small victories and working towards your larger goals:\\n\\n1. **Reflect on your successes**: Take a moment to reflect on the small victories you've achieved so far. What did you accomplish, and how did it make you feel? Writing down your successes can help you identify patterns and areas where you're making progress.\\n\\n2. **Identify the next steps**: Think about what you'd like to achieve next. Break down larger goals into smaller, manageable tasks. What's the next step you can take towards your goal? Make sure it's specific, measurable, and achievable.\\n\\n3. **Create a celebration plan**: Since you mentioned that each small victory brings you joy, let's make a plan to celebrate those successes. What are some ways you can reward yourself or share your accomplishments with loved ones? This could be as simple as enjoying a favorite meal or activity or sharing your success with a friend or family member.\\n\\n4. **Share your progress with others**: You mentioned that your progress is not just for yourself but also for your family. Consider sharing your successes with them and asking for their support. Having a supportive network can make a big difference in your journey.\\n\\n5. **Be patient and kind to yourself**: Remember that setbacks are a natural part of the journey. Don't be too hard on yourself if you encounter obstacles. Instead, focus on what you've learned and how you can apply those lessons to move forward.\\n\\nRemember, every small victory is a step closer to your larger goals. You're doing great, and I'm here to support you every step of the way. Keep shining and celebrating your successes!\",\n",
       "  'response_time': 1.7674496173858643},\n",
       " {'llama_response': \"I can sense the positivity and resilience in your words, and it's truly inspiring. It's amazing how you're finding joy and strength in each small victory, and I'm here to support and guide you through this journey.\\n\\nIt sounds like you're already on the right path, and I'd like to help you build upon that momentum. Here's a structured approach to help you continue celebrating your small victories and working towards your larger goals:\\n\\n1. **Reflect on your successes**: Take a moment to reflect on the small victories you've achieved so far. What did you accomplish, and how did it make you feel? Writing down your successes can help you identify patterns and areas where you're making progress.\\n\\n2. **Identify the next steps**: Think about what you'd like to achieve next. Break down larger goals into smaller, manageable tasks. What's the next step you can take towards your goal? Make sure it's specific, measurable, and achievable.\\n\\n3. **Create a celebration plan**: Since you mentioned that each small victory brings you joy, let's make a plan to celebrate those successes. What are some ways you can reward yourself or share your accomplishments with loved ones? This could be as simple as enjoying a favorite meal or activity or sharing your success with a friend or family member.\\n\\n4. **Share your progress with others**: You mentioned that your progress is not just for yourself but also for your family. Consider sharing your successes with them and asking for their support. Having a supportive network can make a big difference in your journey.\\n\\n5. **Be patient and kind to yourself**: Remember that setbacks are a natural part of the journey. Don't be too hard on yourself if you encounter obstacles. Instead, focus on what you've learned and how you can apply those lessons to move forward.\\n\\nRemember, every small victory is a step closer to your larger goals. You're doing great, and I'm here to support you every step of the way. Keep shining and celebrating your successes!\",\n",
       "  'response_time': 1.7674496173858643}]"
      ]
     },
     "execution_count": 38,
     "metadata": {},
     "output_type": "execute_result"
    }
   ],
   "source": [
    "dsp_pipeline(df, 2)"
   ]
  }
 ],
 "metadata": {
  "kernelspec": {
   "display_name": "Python 3",
   "language": "python",
   "name": "python3"
  },
  "language_info": {
   "codemirror_mode": {
    "name": "ipython",
    "version": 3
   },
   "file_extension": ".py",
   "mimetype": "text/x-python",
   "name": "python",
   "nbconvert_exporter": "python",
   "pygments_lexer": "ipython3",
   "version": "3.12.2"
  }
 },
 "nbformat": 4,
 "nbformat_minor": 2
}
