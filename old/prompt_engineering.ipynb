{
 "cells": [
  {
   "cell_type": "code",
   "execution_count": 1,
   "metadata": {},
   "outputs": [],
   "source": [
    "import pandas as pd"
   ]
  },
  {
   "cell_type": "code",
   "execution_count": 2,
   "metadata": {},
   "outputs": [
    {
     "data": {
      "text/html": [
       "<div>\n",
       "<style scoped>\n",
       "    .dataframe tbody tr th:only-of-type {\n",
       "        vertical-align: middle;\n",
       "    }\n",
       "\n",
       "    .dataframe tbody tr th {\n",
       "        vertical-align: top;\n",
       "    }\n",
       "\n",
       "    .dataframe thead th {\n",
       "        text-align: right;\n",
       "    }\n",
       "</style>\n",
       "<table border=\"1\" class=\"dataframe\">\n",
       "  <thead>\n",
       "    <tr style=\"text-align: right;\">\n",
       "      <th></th>\n",
       "      <th>Unnamed: 0</th>\n",
       "      <th>id</th>\n",
       "      <th>human</th>\n",
       "      <th>gpt</th>\n",
       "    </tr>\n",
       "  </thead>\n",
       "  <tbody>\n",
       "    <tr>\n",
       "      <th>0</th>\n",
       "      <td>0</td>\n",
       "      <td>identity_0_chunk_1</td>\n",
       "      <td>ive been feeling so sad and overwhelmed lately...</td>\n",
       "      <td>hey there im here to listen and support you it...</td>\n",
       "    </tr>\n",
       "    <tr>\n",
       "      <th>1</th>\n",
       "      <td>1</td>\n",
       "      <td>identity_0_chunk_2</td>\n",
       "      <td>i recently got a promotion at work which i tho...</td>\n",
       "      <td>i can understand how it can be overwhelming wh...</td>\n",
       "    </tr>\n",
       "    <tr>\n",
       "      <th>2</th>\n",
       "      <td>2</td>\n",
       "      <td>identity_0_chunk_3</td>\n",
       "      <td>well the workload has increased significantly ...</td>\n",
       "      <td>it sounds like youre dealing with a lot of pre...</td>\n",
       "    </tr>\n",
       "    <tr>\n",
       "      <th>3</th>\n",
       "      <td>3</td>\n",
       "      <td>identity_0_chunk_4</td>\n",
       "      <td>ive been trying to prioritize my tasks and del...</td>\n",
       "      <td>its great to hear that youre already implement...</td>\n",
       "    </tr>\n",
       "    <tr>\n",
       "      <th>4</th>\n",
       "      <td>4</td>\n",
       "      <td>identity_0_chunk_5</td>\n",
       "      <td>youre right i havent really opened up about my...</td>\n",
       "      <td>its completely normal to feel that way but rem...</td>\n",
       "    </tr>\n",
       "  </tbody>\n",
       "</table>\n",
       "</div>"
      ],
      "text/plain": [
       "   Unnamed: 0                  id  \\\n",
       "0           0  identity_0_chunk_1   \n",
       "1           1  identity_0_chunk_2   \n",
       "2           2  identity_0_chunk_3   \n",
       "3           3  identity_0_chunk_4   \n",
       "4           4  identity_0_chunk_5   \n",
       "\n",
       "                                               human  \\\n",
       "0  ive been feeling so sad and overwhelmed lately...   \n",
       "1  i recently got a promotion at work which i tho...   \n",
       "2  well the workload has increased significantly ...   \n",
       "3  ive been trying to prioritize my tasks and del...   \n",
       "4  youre right i havent really opened up about my...   \n",
       "\n",
       "                                                 gpt  \n",
       "0  hey there im here to listen and support you it...  \n",
       "1  i can understand how it can be overwhelming wh...  \n",
       "2  it sounds like youre dealing with a lot of pre...  \n",
       "3  its great to hear that youre already implement...  \n",
       "4  its completely normal to feel that way but rem...  "
      ]
     },
     "execution_count": 2,
     "metadata": {},
     "output_type": "execute_result"
    }
   ],
   "source": [
    "df = pd.read_csv(\"preprocessed_data.csv\")\n",
    "df.head(5)"
   ]
  },
  {
   "cell_type": "code",
   "execution_count": 3,
   "metadata": {},
   "outputs": [
    {
     "name": "stdout",
     "output_type": "stream",
     "text": [
      "Collecting groq"
     ]
    },
    {
     "name": "stderr",
     "output_type": "stream",
     "text": [
      "  WARNING: Failed to write executable - trying to use .deleteme logic\n",
      "ERROR: Could not install packages due to an OSError: [WinError 2] The system cannot find the file specified: 'C:\\\\Python312\\\\Scripts\\\\distro.exe' -> 'C:\\\\Python312\\\\Scripts\\\\distro.exe.deleteme'\n",
      "\n",
      "\n",
      "[notice] A new release of pip is available: 24.0 -> 24.3.1\n",
      "[notice] To update, run: python.exe -m pip install --upgrade pip\n"
     ]
    },
    {
     "name": "stdout",
     "output_type": "stream",
     "text": [
      "\n",
      "  Downloading groq-0.12.0-py3-none-any.whl.metadata (13 kB)\n",
      "Requirement already satisfied: anyio<5,>=3.5.0 in c:\\python312\\lib\\site-packages (from groq) (4.6.2.post1)\n",
      "Collecting distro<2,>=1.7.0 (from groq)\n",
      "  Using cached distro-1.9.0-py3-none-any.whl.metadata (6.8 kB)\n",
      "Requirement already satisfied: httpx<1,>=0.23.0 in c:\\users\\abhishek\\appdata\\roaming\\python\\python312\\site-packages (from groq) (0.27.2)\n",
      "Requirement already satisfied: pydantic<3,>=1.9.0 in c:\\python312\\lib\\site-packages (from groq) (2.9.2)\n",
      "Requirement already satisfied: sniffio in c:\\python312\\lib\\site-packages (from groq) (1.3.0)\n",
      "Requirement already satisfied: typing-extensions<5,>=4.7 in c:\\python312\\lib\\site-packages (from groq) (4.12.2)\n",
      "Requirement already satisfied: idna>=2.8 in c:\\python312\\lib\\site-packages (from anyio<5,>=3.5.0->groq) (3.6)\n",
      "Requirement already satisfied: certifi in c:\\python312\\lib\\site-packages (from httpx<1,>=0.23.0->groq) (2023.11.17)\n",
      "Requirement already satisfied: httpcore==1.* in c:\\python312\\lib\\site-packages (from httpx<1,>=0.23.0->groq) (1.0.6)\n",
      "Requirement already satisfied: h11<0.15,>=0.13 in c:\\python312\\lib\\site-packages (from httpcore==1.*->httpx<1,>=0.23.0->groq) (0.14.0)\n",
      "Requirement already satisfied: annotated-types>=0.6.0 in c:\\python312\\lib\\site-packages (from pydantic<3,>=1.9.0->groq) (0.7.0)\n",
      "Requirement already satisfied: pydantic-core==2.23.4 in c:\\python312\\lib\\site-packages (from pydantic<3,>=1.9.0->groq) (2.23.4)\n",
      "Downloading groq-0.12.0-py3-none-any.whl (108 kB)\n",
      "   ---------------------------------------- 0.0/108.9 kB ? eta -:--:--\n",
      "   --- ------------------------------------ 10.2/108.9 kB ? eta -:--:--\n",
      "   ----------- --------------------------- 30.7/108.9 kB 435.7 kB/s eta 0:00:01\n",
      "   ----------------------------- --------- 81.9/108.9 kB 651.6 kB/s eta 0:00:01\n",
      "   -------------------------------------- 108.9/108.9 kB 788.9 kB/s eta 0:00:00\n",
      "Using cached distro-1.9.0-py3-none-any.whl (20 kB)\n",
      "Installing collected packages: distro, groq\n"
     ]
    }
   ],
   "source": [
    "! pip install groq"
   ]
  },
  {
   "cell_type": "code",
   "execution_count": 5,
   "metadata": {},
   "outputs": [],
   "source": [
    "import os\n",
    "from typing import Dict, List\n",
    "from groq import Groq\n",
    "\n",
    "# Get a free API key from https://console.groq.com/keys\n",
    "os.environ[\"GROQ_API_KEY\"] = \"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\"\n",
    "\n",
    "LLAMA3_70B_INSTRUCT = \"llama-3.1-70b-versatile\"\n",
    "LLAMA3_8B_INSTRUCT = \"llama3.1-8b-instant\"\n",
    "\n",
    "DEFAULT_MODEL = LLAMA3_70B_INSTRUCT\n",
    "\n",
    "client = Groq()\n",
    "\n",
    "def assistant(content: str):\n",
    "    return { \"role\": \"assistant\", \"content\": content }\n",
    "\n",
    "def user(content: str):\n",
    "    return { \"role\": \"user\", \"content\": content }\n",
    "\n",
    "def chat_completion(\n",
    "    messages: List[Dict],\n",
    "    model = DEFAULT_MODEL,\n",
    "    temperature: float = 0.6,\n",
    "    top_p: float = 0.9,\n",
    ") -> str:\n",
    "    response = client.chat.completions.create(\n",
    "        messages=messages,\n",
    "        model=model,\n",
    "        temperature=temperature,\n",
    "        top_p=top_p,\n",
    "    )\n",
    "    return response.choices[0].message.content\n",
    "        \n",
    "\n",
    "def completion(\n",
    "    prompt: str,\n",
    "    model: str = DEFAULT_MODEL,\n",
    "    temperature: float = 0.6,\n",
    "    top_p: float = 0.9,\n",
    ") -> str:\n",
    "    return chat_completion(\n",
    "        [user(prompt)],\n",
    "        model=model,\n",
    "        temperature=temperature,\n",
    "        top_p=top_p,\n",
    "    )\n",
    "\n",
    "def complete_and_print(prompt: str, model: str = DEFAULT_MODEL):\n",
    "    print(f'==============\\n{prompt}\\n==============')\n",
    "    response = completion(prompt, model)\n",
    "    print(response, end='\\n\\n')"
   ]
  },
  {
   "cell_type": "markdown",
   "metadata": {},
   "source": [
    "#### Zero-Shot Prompting "
   ]
  },
  {
   "cell_type": "code",
   "execution_count": 7,
   "metadata": {},
   "outputs": [
    {
     "data": {
      "text/plain": [
       "'ive been feeling so sad and overwhelmed lately work has become such a massive source of stress for me'"
      ]
     },
     "execution_count": 7,
     "metadata": {},
     "output_type": "execute_result"
    }
   ],
   "source": [
    "df['human'][0]"
   ]
  },
  {
   "cell_type": "code",
   "execution_count": 8,
   "metadata": {},
   "outputs": [
    {
     "data": {
      "text/plain": [
       "'hey there im here to listen and support you it sounds like work has been really challenging lately can you tell me more about whats been going on'"
      ]
     },
     "execution_count": 8,
     "metadata": {},
     "output_type": "execute_result"
    }
   ],
   "source": [
    "df['gpt'][0]"
   ]
  },
  {
   "cell_type": "code",
   "execution_count": 9,
   "metadata": {},
   "outputs": [
    {
     "name": "stdout",
     "output_type": "stream",
     "text": [
      "==============\n",
      "ive been feeling so sad and overwhelmed lately work has become such a massive source of stress for me\n",
      "==============\n",
      "I'm so sorry to hear that you're feeling overwhelmed and stressed about work. It's completely normal to feel this way, especially when work becomes a significant source of pressure.\n",
      "\n",
      "Firstly, please know that you're not alone in feeling this way. Many people experience work-related stress, and it's essential to acknowledge that it's okay to feel overwhelmed.\n",
      "\n",
      "Here are some suggestions that might help you cope with work-related stress and feelings of sadness:\n",
      "\n",
      "1. **Identify the source**: Try to pinpoint what specifically is causing you stress at work. Is it a particular task, a colleague, or the workload? Once you understand the root cause, you can start working on a plan to address it.\n",
      "2. **Take breaks**: Make sure you're taking regular breaks throughout the day. Go for a walk, do some stretching, or practice deep breathing exercises. This can help you clear your mind and recharge.\n",
      "3. **Prioritize self-care**: Take care of your physical and emotional well-being. Ensure you're getting enough sleep, eating a balanced diet, and engaging in activities that bring you joy and relaxation.\n",
      "4. **Communicate with your employer**: If possible, talk to your manager or HR department about your work-related stress. They may be able to offer support, provide resources, or help you find ways to manage your workload.\n",
      "5. **Seek support**: Reach out to friends, family, or a therapist who can provide emotional support and guidance. Sharing your feelings with someone you trust can help you feel heard and understood.\n",
      "6. **Consider boundaries**: Establish clear boundaries between your work and personal life. This might mean not checking work emails or taking work calls during your free time.\n",
      "7. **Explore stress-reducing activities**: Engage in activities that help you relax, such as yoga, meditation, or hobbies. These can help you manage stress and improve your overall well-being.\n",
      "8. **Re-evaluate your priorities**: Take a step back and assess your priorities. Ask yourself if there are any changes you can make to your work or personal life that might help reduce stress and improve your overall happiness.\n",
      "\n",
      "Remember, it's essential to take care of yourself and prioritize your well-being. If you're feeling overwhelmed, don't hesitate to reach out for support.\n",
      "\n",
      "What do you think might be the most challenging part of your work situation, and how do you think you can start addressing it?\n",
      "\n"
     ]
    }
   ],
   "source": [
    "complete_and_print(df['human'][0])"
   ]
  },
  {
   "cell_type": "markdown",
   "metadata": {},
   "source": [
    "## FEW_SHOT WITH 5 EXAMPLES"
   ]
  },
  {
   "cell_type": "code",
   "execution_count": 34,
   "metadata": {},
   "outputs": [],
   "source": [
    "def response(few_shot_list):\n",
    "    response = chat_completion(messages=few_shot_list)\n",
    "    return response\n",
    "\n",
    "def print_response(few_shot_list, text):\n",
    "    print(f'INPUT: {text}')\n",
    "    few_shot_list.append(user(text))\n",
    "    return response(few_shot_list=few_shot_list)"
   ]
  },
  {
   "cell_type": "code",
   "execution_count": 40,
   "metadata": {},
   "outputs": [],
   "source": [
    "def random_sample(n):\n",
    "    few_shot_list = []\n",
    "    random_data = df.sample(n)\n",
    "    human_list = random_data['human']\n",
    "    gpt_list = random_data['gpt']\n",
    "\n",
    "    few_shot_list.append(user(\"You are a chatbot. For each message, return a response based on user input\"))\n",
    "    for i, j in zip(human_list, gpt_list):\n",
    "        few_shot_list.append(user(i))\n",
    "        few_shot_list.append(assistant(j))\n",
    "\n",
    "    return few_shot_list"
   ]
  },
  {
   "cell_type": "code",
   "execution_count": 41,
   "metadata": {},
   "outputs": [
    {
     "name": "stdout",
     "output_type": "stream",
     "text": [
      "INPUT: thank you for your understanding and guidance i appreciate the reminder that i dont have to face this alone ill gather my courage and initiate that conversation soon i need to prioritize my wellbeing and find a healthier balance\n",
      "GPT Response youre very welcome im here to support you every step of the way taking care of yourself should always be a priority remember to be kind to yourself and celebrate your progress no matter how small it may seem youve got this\n",
      "LLM Response youre welcome charlie remember that taking care of yourself is essential to maintaining healthy relationships prioritizing your wellbeing is a sign of strength not weakness take things at your own pace and be gentle with yourself as you navigate this conversation and the changes that come with it\n"
     ]
    }
   ],
   "source": [
    "llama_response = print_response(random_sample(5), df['human'][5])\n",
    "print(\"GPT Response\", df['gpt'][5])\n",
    "print(\"LLM Response\", llama_response)"
   ]
  },
  {
   "cell_type": "markdown",
   "metadata": {},
   "source": [
    "## FEW SHOT WITH 20 RANDOM SAMPLES"
   ]
  },
  {
   "cell_type": "code",
   "execution_count": 42,
   "metadata": {},
   "outputs": [
    {
     "name": "stdout",
     "output_type": "stream",
     "text": [
      "INPUT: i see so its important to frame it as a dialogue rather than confrontational that makes sense\n",
      "GPT Response absolutely opening up a conversation can lead to better understanding and growth remember your feelings are valid and a healthy friendship should provide a safe space to express them if your friends truly care about you they will listen and try to understand your perspective\n",
      "LLM Response exactly charlie by framing it as a dialogue you can create a space for open communication and mutual understanding this can help to diffuse tension and allow for a more constructive conversation what do you think might be the most challenging part of having this conversation\n"
     ]
    }
   ],
   "source": [
    "llama_response = print_response(random_sample(20), df['human'][10])\n",
    "print(\"GPT Response\", df['gpt'][10])\n",
    "print(\"LLM Response\", llama_response)"
   ]
  },
  {
   "cell_type": "code",
   "execution_count": null,
   "metadata": {},
   "outputs": [],
   "source": []
  }
 ],
 "metadata": {
  "kernelspec": {
   "display_name": "Python 3",
   "language": "python",
   "name": "python3"
  },
  "language_info": {
   "codemirror_mode": {
    "name": "ipython",
    "version": 3
   },
   "file_extension": ".py",
   "mimetype": "text/x-python",
   "name": "python",
   "nbconvert_exporter": "python",
   "pygments_lexer": "ipython3",
   "version": "3.12.2"
  }
 },
 "nbformat": 4,
 "nbformat_minor": 2
}
